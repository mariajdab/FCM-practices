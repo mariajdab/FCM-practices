{
 "cells": [
  {
   "cell_type": "code",
   "execution_count": 4,
   "metadata": {},
   "outputs": [],
   "source": [
    "import matplotlib.pylab as plt\n",
    "import pandas as pd\n",
    "import seaborn as sns\n",
    "from sklearn.model_selection import train_test_split\n",
    "from fcmpy.ml.classification.eltcn import run\n",
    "import matplotlib.pylab as plt\n",
    "import decimal"
   ]
  },
  {
   "cell_type": "code",
   "execution_count": 5,
   "metadata": {},
   "outputs": [],
   "source": [
    "def float_to_decimal(x):\n",
    "    return decimal.Decimal(str(x))\n",
    "\n",
    "def read_csv_data(path):\n",
    "    df = pd.read_csv(path,  converters={\"c1\": float_to_decimal, \"c2\": float_to_decimal, \"c3\": float_to_decimal,\"c4\": float_to_decimal,\"c5\": float_to_decimal,\"c6\": float_to_decimal,\"c7\": float_to_decimal,\"c8\": float_to_decimal})\n",
    "    return df"
   ]
  },
  {
   "cell_type": "code",
   "execution_count": 6,
   "metadata": {},
   "outputs": [
    {
     "name": "stdout",
     "output_type": "stream",
     "text": [
      "                       c1                   c4                   c5  \\\n",
      "731   0.47058823529411764                  0.0                  0.0   \n",
      "716    0.1764705882352941    0.393939393939394  0.21867612293144206   \n",
      "640                   0.0  0.17171717171717174  0.12411347517730496   \n",
      "804    0.1764705882352941  0.31313131313131315                  0.0   \n",
      "737   0.47058823529411764  0.23232323232323235                  0.0   \n",
      "..                    ...                  ...                  ...   \n",
      "767  0.058823529411764705  0.31313131313131315                  0.0   \n",
      "72     0.7647058823529411                  0.0                  0.0   \n",
      "908    0.5294117647058824  0.32323232323232326  0.20685579196217493   \n",
      "235   0.23529411764705882                  0.0                  0.0   \n",
      "37     0.5294117647058824  0.37373737373737376                  0.0   \n",
      "\n",
      "                      c6                   c7                    c8  clase  \n",
      "731  0.42324888226527574  0.07728437233134074  0.016666666666666663    1.0  \n",
      "716    0.503725782414307   0.3808710503842869   0.16666666666666663    1.0  \n",
      "640    0.436661698956781   0.2634500426985482   0.10000000000000003    0.0  \n",
      "804   0.5201192250372578    0.069598633646456   0.06666666666666671    1.0  \n",
      "737   0.4769001490312966   0.2228864218616567                  0.35    0.0  \n",
      "..                   ...                  ...                   ...    ...  \n",
      "767  0.45305514157973176  0.10119555935098205  0.033333333333333326    0.0  \n",
      "72     0.646795827123696  0.21562766865926558                  0.35    1.0  \n",
      "908   0.5096870342771983  0.07771135781383433                  0.25    1.0  \n",
      "235   0.6497764530551416  0.17122117847993168   0.08333333333333337    1.0  \n",
      "37    0.4903129657228018   0.2506404782237404   0.41666666666666663    1.0  \n",
      "\n",
      "[700 rows x 7 columns]\n",
      "                       c1                   c4                   c5  \\\n",
      "507  0.058823529411764705  0.23232323232323235  0.20094562647754136   \n",
      "818   0.11764705882352941   0.2828282828282829  0.24231678486997635   \n",
      "452                   0.0  0.32323232323232326  0.24822695035460993   \n",
      "368    0.1764705882352941  0.16161616161616163  0.07801418439716312   \n",
      "242    0.1764705882352941                  0.0                  0.0   \n",
      "..                    ...                  ...                  ...   \n",
      "459    0.5294117647058824  0.33333333333333337  0.07092198581560283   \n",
      "415    0.1764705882352941  0.33333333333333337   0.5602836879432624   \n",
      "61    0.47058823529411764                  0.0                  0.0   \n",
      "347    0.1764705882352941                  0.0                  0.0   \n",
      "349   0.29411764705882354  0.32323232323232326                  0.0   \n",
      "\n",
      "                      c6                   c7                    c8  clase  \n",
      "507   0.4262295081967214  0.26216908625106744                   0.0    0.0  \n",
      "818   0.4903129657228018   0.3403074295473954   0.15000000000000002    1.0  \n",
      "452   0.5946348733233979  0.12937660119555933   0.06666666666666671    0.0  \n",
      "368  0.40983606557377056   0.0973526900085397  0.016666666666666663    0.0  \n",
      "242   0.3815201192250373  0.13834329632792486  0.016666666666666663    1.0  \n",
      "..                   ...                  ...                   ...    ...  \n",
      "459   0.3859910581222057  0.16310845431255339                   1.0    0.0  \n",
      "415   0.5320417287630403  0.07685738684884713  0.016666666666666663    1.0  \n",
      "61    0.4903129657228018  0.08198121263877028   0.30000000000000004    1.0  \n",
      "347  0.35022354694485847  0.04654141759180187  0.033333333333333326    0.0  \n",
      "349   0.6110283159463488   0.1144321093082835    0.2666666666666667    1.0  \n",
      "\n",
      "[300 rows x 7 columns]\n"
     ]
    }
   ],
   "source": [
    "\n",
    "#import dataset\n",
    "dengue_data = read_csv_data('diabetes.csv')\n",
    "\n",
    "#output vector\n",
    "y = dengue_data.clase\n",
    "\n",
    "\n",
    "#input vector\n",
    "x = dengue_data.drop(['clase', 'c2', 'c3'],axis=1)\n",
    "\n",
    "\n",
    "#split \n",
    "x_train,x_test,y_train,y_test=train_test_split(x ,y, test_size=0.3, random_state=1)\n",
    "\n",
    "x_train.to_csv('train-diabetes_xdata_1era_etapa.csv', index=False)\n",
    "x_test.to_csv('test-diabetes_xdata_1era_etapa.csv', index=False)\n",
    "y_test.to_csv('test-diabetes_ydata_1era_etapa.csv', index=False)\n",
    "y_train.to_csv('train-diabetes_ydata_1era_etapa.csv', index=False)\n",
    "\n",
    "concatenated_train = pd.concat([x_train, y_train], axis=\"columns\")\n",
    "print(concatenated_train)\n",
    "concatenated_train.to_csv('train_diabetes_1eraEtapa_data.csv', index=False)\n",
    "\n",
    "\n",
    "concatenated_test = pd.concat([x_test, y_test], axis=\"columns\")\n",
    "print(concatenated_test)\n",
    "concatenated_test.to_csv('test_diabetes_1eraEtapa_data.csv', index=False)"
   ]
  },
  {
   "cell_type": "code",
   "execution_count": null,
   "metadata": {},
   "outputs": [],
   "source": []
  }
 ],
 "metadata": {
  "kernelspec": {
   "display_name": "Python 3",
   "language": "python",
   "name": "python3"
  },
  "language_info": {
   "codemirror_mode": {
    "name": "ipython",
    "version": 3
   },
   "file_extension": ".py",
   "mimetype": "text/x-python",
   "name": "python",
   "nbconvert_exporter": "python",
   "pygments_lexer": "ipython3",
   "version": "3.8.1"
  },
  "orig_nbformat": 4,
  "vscode": {
   "interpreter": {
    "hash": "7b1b723ff058a69229b7ddfe4fcefb9b48858870aa1d64b1a8c850759a4bd6fa"
   }
  }
 },
 "nbformat": 4,
 "nbformat_minor": 2
}
