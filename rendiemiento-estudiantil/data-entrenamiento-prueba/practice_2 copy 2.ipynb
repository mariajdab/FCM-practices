{
 "cells": [
  {
   "cell_type": "code",
   "execution_count": 1,
   "metadata": {},
   "outputs": [],
   "source": [
    "import matplotlib.pylab as plt\n",
    "import pandas as pd\n",
    "import seaborn as sns\n",
    "from sklearn.model_selection import train_test_split\n",
    "from fcmpy.ml.classification.eltcn import run\n",
    "import matplotlib.pylab as plt\n",
    "import decimal"
   ]
  },
  {
   "cell_type": "code",
   "execution_count": 2,
   "metadata": {},
   "outputs": [],
   "source": [
    "def float_to_decimal(x):\n",
    "    return decimal.Decimal(str(x))\n",
    "\n",
    "def read_csv_data(path):\n",
    "    df = pd.read_csv(path,  converters={\"c1\": float_to_decimal, \"c2\": float_to_decimal, \"c3\": float_to_decimal,\"c4\": float_to_decimal,\"c5\": float_to_decimal,\"c6\": float_to_decimal,\"c7\": float_to_decimal,\"c8\": float_to_decimal,\"c9\": float_to_decimal,\"c10\": float_to_decimal,\"c11\": float_to_decimal,\"c12\": float_to_decimal,\"c13\": float_to_decimal,\"c14\": float_to_decimal,\"c15\": float_to_decimal,\"c16\": float_to_decimal})\n",
    "    return df"
   ]
  },
  {
   "cell_type": "code",
   "execution_count": null,
   "metadata": {},
   "outputs": [],
   "source": []
  },
  {
   "cell_type": "code",
   "execution_count": 3,
   "metadata": {},
   "outputs": [
    {
     "name": "stdout",
     "output_type": "stream",
     "text": [
      "      c1                   c2   c3                  c4   c5  \\\n",
      "103  0.0   0.8461538461538463  0.5                 0.0  1.0   \n",
      "544  0.0   0.8461538461538463  0.0  1.0000000000000002  0.0   \n",
      "146  1.0  0.38461538461538464  1.0                 0.5  0.0   \n",
      "335  0.0   0.3076923076923077  0.5                 0.0  0.0   \n",
      "638  0.0   0.8461538461538463  0.5                 0.0  1.0   \n",
      "..   ...                  ...  ...                 ...  ...   \n",
      "144  0.0   0.8461538461538463  1.0                 0.5  0.0   \n",
      "645  1.0   0.8461538461538463  0.0  1.0000000000000002  0.0   \n",
      "72   0.0   0.8461538461538463  1.0                 0.5  0.0   \n",
      "235  0.0   0.8461538461538463  1.0                 0.5  1.0   \n",
      "37   1.0  0.23076923076923078  1.0                 0.5  0.0   \n",
      "\n",
      "                     c6   c7   c8  c13  c14  c15  c16  c16  \n",
      "103  0.4545454545454545  1.0  0.0  0.0  0.0  1.0  0.0  0.0  \n",
      "544  0.6363636363636364  1.0  0.0  0.0  0.0  1.0  0.0  0.0  \n",
      "146  0.1818181818181818  0.0  1.0  1.0  1.0  0.0  1.0  1.0  \n",
      "335  0.5454545454545454  0.0  1.0  0.0  1.0  1.0  0.0  0.0  \n",
      "638  0.4545454545454545  1.0  0.0  1.0  1.0  1.0  0.0  0.0  \n",
      "..                  ...  ...  ...  ...  ...  ...  ...  ...  \n",
      "144  0.1818181818181818  0.0  0.0  0.0  0.0  1.0  0.0  0.0  \n",
      "645  0.6363636363636364  1.0  0.0  0.0  0.0  1.0  0.0  0.0  \n",
      "72   0.9090909090909091  1.0  0.0  0.0  0.0  0.0  0.0  0.0  \n",
      "235  0.2727272727272727  0.0  0.0  0.0  0.0  1.0  0.0  0.0  \n",
      "37   0.4545454545454545  1.0  0.0  1.0  1.0  0.0  1.0  1.0  \n",
      "\n",
      "[494 rows x 13 columns]\n",
      "      c1                  c2   c3                  c4   c5  \\\n",
      "605  0.0  0.8461538461538463  1.0  0.6000000000000001  0.0   \n",
      "425  1.0  0.5384615384615385  1.0  0.6000000000000001  0.0   \n",
      "334  0.0  0.3076923076923077  0.5                 0.0  0.0   \n",
      "457  1.0  0.5384615384615385  1.0  0.6000000000000001  0.0   \n",
      "187  1.0  0.8461538461538463  1.0  0.6000000000000001  0.0   \n",
      "..   ...                 ...  ...                 ...  ...   \n",
      "628  1.0  0.8461538461538463  0.5                 0.5  0.0   \n",
      "160  1.0  0.5384615384615385  1.0                 0.5  1.0   \n",
      "449  0.0  0.5384615384615385  1.0  0.6000000000000001  0.0   \n",
      "305  1.0  0.5384615384615385  0.5                 0.2  1.0   \n",
      "584  0.0  0.8461538461538463  1.0                 0.5  1.0   \n",
      "\n",
      "                      c6   c7   c8  c13  c14  c15  c16  c16  \n",
      "605   0.7272727272727273  0.0  0.0  1.0  1.0  1.0  0.0  0.0  \n",
      "425  0.09090909090909091  0.0  1.0  1.0  1.0  0.0  1.0  1.0  \n",
      "334   0.5454545454545454  1.0  1.0  0.0  1.0  1.0  0.0  0.0  \n",
      "457   0.8181818181818182  0.0  0.0  1.0  1.0  0.0  1.0  1.0  \n",
      "187   0.7272727272727273  0.0  0.0  1.0  1.0  0.0  1.0  1.0  \n",
      "..                   ...  ...  ...  ...  ...  ...  ...  ...  \n",
      "628   0.4545454545454545  1.0  0.0  1.0  1.0  1.0  0.0  0.0  \n",
      "160   0.2727272727272727  0.0  1.0  1.0  1.0  0.0  1.0  1.0  \n",
      "449   0.9999999999999999  0.0  1.0  1.0  1.0  0.0  1.0  1.0  \n",
      "305   0.2727272727272727  0.0  0.0  1.0  0.0  0.0  1.0  1.0  \n",
      "584   0.4545454545454545  1.0  0.0  1.0  1.0  1.0  0.0  0.0  \n",
      "\n",
      "[212 rows x 13 columns]\n"
     ]
    }
   ],
   "source": [
    "\n",
    "#import dataset\n",
    "dengue_data = read_csv_data('student.csv')\n",
    "\n",
    "#output vector\n",
    "y = dengue_data.c16\n",
    "\n",
    "\n",
    "#input vector\n",
    "x = dengue_data.drop(['c9', 'c10', 'c11', 'c12'],axis=1)\n",
    "\n",
    "\n",
    "#split \n",
    "x_train,x_test,y_train,y_test=train_test_split(x ,y, test_size=0.3, random_state=1)\n",
    "\n",
    "x_train.to_csv('train-student_xdata_1era_etapa.csv', index=False)\n",
    "x_test.to_csv('test-student_xdata_1era_etapa.csv', index=False)\n",
    "y_test.to_csv('test-student_ydata_1era_etapa.csv', index=False)\n",
    "y_train.to_csv('train-student_ydata_1era_etapa.csv', index=False)\n",
    "\n",
    "concatenated_train = pd.concat([x_train, y_train], axis=\"columns\")\n",
    "print(concatenated_train)\n",
    "concatenated_train.to_csv('train_student_1eraEtapa_data.csv', index=False)\n",
    "\n",
    "\n",
    "concatenated_test = pd.concat([x_test, y_test], axis=\"columns\")\n",
    "print(concatenated_test)\n",
    "concatenated_test.to_csv('test_student_1eraEtapa_data.csv', index=False)\n",
    "\n",
    "#verify\n",
    "\n",
    "#sources = ['raw_data.arff']\n",
    "#params = {'sources':sources}\n",
    "\n",
    "#out = run('data')\n",
    "#fig, ax = plt.subplots()\n",
    "#ax.bar(range(len(out[0]['importance'].flatten())), height=out[0]['importance'].flatten())\n",
    "\n",
    "#out[0]['weights']\n",
    "\n",
    "#print(out['iris.arff']['avgW'])\n",
    "\n",
    "#print(out['iris.arff']['classW'])"
   ]
  },
  {
   "cell_type": "code",
   "execution_count": null,
   "metadata": {},
   "outputs": [],
   "source": []
  }
 ],
 "metadata": {
  "kernelspec": {
   "display_name": "Python 3",
   "language": "python",
   "name": "python3"
  },
  "language_info": {
   "codemirror_mode": {
    "name": "ipython",
    "version": 3
   },
   "file_extension": ".py",
   "mimetype": "text/x-python",
   "name": "python",
   "nbconvert_exporter": "python",
   "pygments_lexer": "ipython3",
   "version": "3.8.1"
  },
  "orig_nbformat": 4,
  "vscode": {
   "interpreter": {
    "hash": "7b1b723ff058a69229b7ddfe4fcefb9b48858870aa1d64b1a8c850759a4bd6fa"
   }
  }
 },
 "nbformat": 4,
 "nbformat_minor": 2
}
